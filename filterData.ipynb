{
 "cells": [
  {
   "cell_type": "code",
   "execution_count": 1,
   "metadata": {
    "id": "FnIxH3RwV7S7"
   },
   "outputs": [],
   "source": [
    "import pandas as pd\n",
    "import numpy as np\n",
    "import matplotlib.pyplot as plt"
   ]
  },
  {
   "cell_type": "code",
   "execution_count": 2,
   "metadata": {
    "id": "tynWNFnmU7oB"
   },
   "outputs": [],
   "source": [
    "df = pd.read_csv('Data/Air_Quality.csv')"
   ]
  },
  {
   "cell_type": "code",
   "execution_count": 3,
   "metadata": {
    "colab": {
     "base_uri": "https://localhost:8080/",
     "height": 362
    },
    "id": "gFpdpf_nWFqK",
    "outputId": "f5433193-0a85-45ba-9f1a-8409caa6e32f"
   },
   "outputs": [
    {
     "data": {
      "application/vnd.microsoft.datawrangler.viewer.v0+json": {
       "columns": [
        {
         "name": "index",
         "rawType": "int64",
         "type": "integer"
        },
        {
         "name": "Date",
         "rawType": "object",
         "type": "string"
        },
        {
         "name": "City",
         "rawType": "object",
         "type": "string"
        },
        {
         "name": "CO",
         "rawType": "float64",
         "type": "float"
        },
        {
         "name": "NO2",
         "rawType": "float64",
         "type": "float"
        },
        {
         "name": "SO2",
         "rawType": "float64",
         "type": "float"
        },
        {
         "name": "O3",
         "rawType": "float64",
         "type": "float"
        },
        {
         "name": "PM2.5",
         "rawType": "float64",
         "type": "float"
        },
        {
         "name": "PM10",
         "rawType": "float64",
         "type": "float"
        },
        {
         "name": "AQI",
         "rawType": "float64",
         "type": "float"
        }
       ],
       "ref": "3625f3a9-420d-4ef6-9543-c34b9c9576bd",
       "rows": [
        [
         "0",
         "2023-01-01 00:00:00+00:00",
         "Brasilia",
         "292.0",
         "30.15",
         "1.1",
         "23.0",
         "11.1",
         "15.8",
         "21.15833"
        ],
        [
         "1",
         "2023-01-01 01:00:00+00:00",
         "Brasilia",
         "291.0",
         "28.95",
         "1.15",
         "24.0",
         "12.4",
         "17.7",
         "20.825"
        ],
        [
         "2",
         "2023-01-01 02:00:00+00:00",
         "Brasilia",
         "289.0",
         "27.25",
         "1.25",
         "25.0",
         "13.0",
         "18.5",
         "20.474998"
        ],
        [
         "3",
         "2023-01-01 03:00:00+00:00",
         "Brasilia",
         "275.0",
         "23.7",
         "1.3",
         "28.0",
         "9.2",
         "13.1",
         "20.074999"
        ],
        [
         "4",
         "2023-01-01 04:00:00+00:00",
         "Brasilia",
         "246.0",
         "19.35",
         "1.25",
         "32.0",
         "6.8",
         "9.7",
         "19.324999"
        ],
        [
         "5",
         "2023-01-01 05:00:00+00:00",
         "Brasilia",
         "208.0",
         "13.95",
         "1.15",
         "36.0",
         "5.6",
         "8.0",
         "18.574999"
        ],
        [
         "6",
         "2023-01-01 06:00:00+00:00",
         "Brasilia",
         "166.0",
         "8.2",
         "1.05",
         "41.0",
         "5.1",
         "7.2",
         "17.824999"
        ],
        [
         "7",
         "2023-01-01 07:00:00+00:00",
         "Brasilia",
         "152.0",
         "6.3",
         "1.0",
         "41.0",
         "4.9",
         "6.9",
         "17.275"
        ],
        [
         "8",
         "2023-01-01 08:00:00+00:00",
         "Brasilia",
         "146.0",
         "5.55",
         "0.95",
         "40.0",
         "4.9",
         "7.0",
         "16.875"
        ],
        [
         "9",
         "2023-01-01 09:00:00+00:00",
         "Brasilia",
         "139.0",
         "4.9",
         "0.9",
         "40.0",
         "4.9",
         "7.0",
         "16.566666"
        ]
       ],
       "shape": {
        "columns": 9,
        "rows": 10
       }
      },
      "text/html": [
       "<div>\n",
       "<style scoped>\n",
       "    .dataframe tbody tr th:only-of-type {\n",
       "        vertical-align: middle;\n",
       "    }\n",
       "\n",
       "    .dataframe tbody tr th {\n",
       "        vertical-align: top;\n",
       "    }\n",
       "\n",
       "    .dataframe thead th {\n",
       "        text-align: right;\n",
       "    }\n",
       "</style>\n",
       "<table border=\"1\" class=\"dataframe\">\n",
       "  <thead>\n",
       "    <tr style=\"text-align: right;\">\n",
       "      <th></th>\n",
       "      <th>Date</th>\n",
       "      <th>City</th>\n",
       "      <th>CO</th>\n",
       "      <th>NO2</th>\n",
       "      <th>SO2</th>\n",
       "      <th>O3</th>\n",
       "      <th>PM2.5</th>\n",
       "      <th>PM10</th>\n",
       "      <th>AQI</th>\n",
       "    </tr>\n",
       "  </thead>\n",
       "  <tbody>\n",
       "    <tr>\n",
       "      <th>0</th>\n",
       "      <td>2023-01-01 00:00:00+00:00</td>\n",
       "      <td>Brasilia</td>\n",
       "      <td>292.0</td>\n",
       "      <td>30.15</td>\n",
       "      <td>1.10</td>\n",
       "      <td>23.0</td>\n",
       "      <td>11.1</td>\n",
       "      <td>15.8</td>\n",
       "      <td>21.158330</td>\n",
       "    </tr>\n",
       "    <tr>\n",
       "      <th>1</th>\n",
       "      <td>2023-01-01 01:00:00+00:00</td>\n",
       "      <td>Brasilia</td>\n",
       "      <td>291.0</td>\n",
       "      <td>28.95</td>\n",
       "      <td>1.15</td>\n",
       "      <td>24.0</td>\n",
       "      <td>12.4</td>\n",
       "      <td>17.7</td>\n",
       "      <td>20.825000</td>\n",
       "    </tr>\n",
       "    <tr>\n",
       "      <th>2</th>\n",
       "      <td>2023-01-01 02:00:00+00:00</td>\n",
       "      <td>Brasilia</td>\n",
       "      <td>289.0</td>\n",
       "      <td>27.25</td>\n",
       "      <td>1.25</td>\n",
       "      <td>25.0</td>\n",
       "      <td>13.0</td>\n",
       "      <td>18.5</td>\n",
       "      <td>20.474998</td>\n",
       "    </tr>\n",
       "    <tr>\n",
       "      <th>3</th>\n",
       "      <td>2023-01-01 03:00:00+00:00</td>\n",
       "      <td>Brasilia</td>\n",
       "      <td>275.0</td>\n",
       "      <td>23.70</td>\n",
       "      <td>1.30</td>\n",
       "      <td>28.0</td>\n",
       "      <td>9.2</td>\n",
       "      <td>13.1</td>\n",
       "      <td>20.074999</td>\n",
       "    </tr>\n",
       "    <tr>\n",
       "      <th>4</th>\n",
       "      <td>2023-01-01 04:00:00+00:00</td>\n",
       "      <td>Brasilia</td>\n",
       "      <td>246.0</td>\n",
       "      <td>19.35</td>\n",
       "      <td>1.25</td>\n",
       "      <td>32.0</td>\n",
       "      <td>6.8</td>\n",
       "      <td>9.7</td>\n",
       "      <td>19.324999</td>\n",
       "    </tr>\n",
       "    <tr>\n",
       "      <th>5</th>\n",
       "      <td>2023-01-01 05:00:00+00:00</td>\n",
       "      <td>Brasilia</td>\n",
       "      <td>208.0</td>\n",
       "      <td>13.95</td>\n",
       "      <td>1.15</td>\n",
       "      <td>36.0</td>\n",
       "      <td>5.6</td>\n",
       "      <td>8.0</td>\n",
       "      <td>18.574999</td>\n",
       "    </tr>\n",
       "    <tr>\n",
       "      <th>6</th>\n",
       "      <td>2023-01-01 06:00:00+00:00</td>\n",
       "      <td>Brasilia</td>\n",
       "      <td>166.0</td>\n",
       "      <td>8.20</td>\n",
       "      <td>1.05</td>\n",
       "      <td>41.0</td>\n",
       "      <td>5.1</td>\n",
       "      <td>7.2</td>\n",
       "      <td>17.824999</td>\n",
       "    </tr>\n",
       "    <tr>\n",
       "      <th>7</th>\n",
       "      <td>2023-01-01 07:00:00+00:00</td>\n",
       "      <td>Brasilia</td>\n",
       "      <td>152.0</td>\n",
       "      <td>6.30</td>\n",
       "      <td>1.00</td>\n",
       "      <td>41.0</td>\n",
       "      <td>4.9</td>\n",
       "      <td>6.9</td>\n",
       "      <td>17.275000</td>\n",
       "    </tr>\n",
       "    <tr>\n",
       "      <th>8</th>\n",
       "      <td>2023-01-01 08:00:00+00:00</td>\n",
       "      <td>Brasilia</td>\n",
       "      <td>146.0</td>\n",
       "      <td>5.55</td>\n",
       "      <td>0.95</td>\n",
       "      <td>40.0</td>\n",
       "      <td>4.9</td>\n",
       "      <td>7.0</td>\n",
       "      <td>16.875000</td>\n",
       "    </tr>\n",
       "    <tr>\n",
       "      <th>9</th>\n",
       "      <td>2023-01-01 09:00:00+00:00</td>\n",
       "      <td>Brasilia</td>\n",
       "      <td>139.0</td>\n",
       "      <td>4.90</td>\n",
       "      <td>0.90</td>\n",
       "      <td>40.0</td>\n",
       "      <td>4.9</td>\n",
       "      <td>7.0</td>\n",
       "      <td>16.566666</td>\n",
       "    </tr>\n",
       "  </tbody>\n",
       "</table>\n",
       "</div>"
      ],
      "text/plain": [
       "                        Date      City     CO    NO2   SO2    O3  PM2.5  PM10  \\\n",
       "0  2023-01-01 00:00:00+00:00  Brasilia  292.0  30.15  1.10  23.0   11.1  15.8   \n",
       "1  2023-01-01 01:00:00+00:00  Brasilia  291.0  28.95  1.15  24.0   12.4  17.7   \n",
       "2  2023-01-01 02:00:00+00:00  Brasilia  289.0  27.25  1.25  25.0   13.0  18.5   \n",
       "3  2023-01-01 03:00:00+00:00  Brasilia  275.0  23.70  1.30  28.0    9.2  13.1   \n",
       "4  2023-01-01 04:00:00+00:00  Brasilia  246.0  19.35  1.25  32.0    6.8   9.7   \n",
       "5  2023-01-01 05:00:00+00:00  Brasilia  208.0  13.95  1.15  36.0    5.6   8.0   \n",
       "6  2023-01-01 06:00:00+00:00  Brasilia  166.0   8.20  1.05  41.0    5.1   7.2   \n",
       "7  2023-01-01 07:00:00+00:00  Brasilia  152.0   6.30  1.00  41.0    4.9   6.9   \n",
       "8  2023-01-01 08:00:00+00:00  Brasilia  146.0   5.55  0.95  40.0    4.9   7.0   \n",
       "9  2023-01-01 09:00:00+00:00  Brasilia  139.0   4.90  0.90  40.0    4.9   7.0   \n",
       "\n",
       "         AQI  \n",
       "0  21.158330  \n",
       "1  20.825000  \n",
       "2  20.474998  \n",
       "3  20.074999  \n",
       "4  19.324999  \n",
       "5  18.574999  \n",
       "6  17.824999  \n",
       "7  17.275000  \n",
       "8  16.875000  \n",
       "9  16.566666  "
      ]
     },
     "execution_count": 3,
     "metadata": {},
     "output_type": "execute_result"
    }
   ],
   "source": [
    "df.head(10)"
   ]
  },
  {
   "cell_type": "code",
   "execution_count": 4,
   "metadata": {
    "id": "dS9RKprEWMHE"
   },
   "outputs": [],
   "source": [
    "df[\"Date\"] = pd.to_datetime(df[\"Date\"])"
   ]
  },
  {
   "cell_type": "code",
   "execution_count": 5,
   "metadata": {
    "id": "n3dAmF-qZkaj"
   },
   "outputs": [],
   "source": [
    "df[\"Date\"] = df[\"Date\"].dt.hour"
   ]
  },
  {
   "cell_type": "code",
   "execution_count": 6,
   "metadata": {
    "colab": {
     "base_uri": "https://localhost:8080/"
    },
    "id": "p04uo4PSaf5i",
    "outputId": "ec857395-b542-4f36-a1df-c3b005e78b9c"
   },
   "outputs": [
    {
     "data": {
      "text/plain": [
       "array(['Brasilia', 'Cairo', 'Dubai', 'London', 'New York', 'Sydney'],\n",
       "      dtype=object)"
      ]
     },
     "execution_count": 6,
     "metadata": {},
     "output_type": "execute_result"
    }
   ],
   "source": [
    "df[\"City\"].unique()"
   ]
  },
  {
   "cell_type": "code",
   "execution_count": 7,
   "metadata": {
    "id": "Re6ANKyfZlgR"
   },
   "outputs": [],
   "source": [
    "mapping = {\n",
    "    \"Brasilia\": 1,\n",
    "    \"Cairo\": 2,\n",
    "    \"Dubai\": 3,\n",
    "    \"London\": 4,\n",
    "    \"New York\": 5,\n",
    "    \"Sydney\": 6\n",
    "}\n",
    "\n",
    "df[\"City\"] = df[\"City\"].map(mapping)\n"
   ]
  },
  {
   "cell_type": "code",
   "execution_count": 8,
   "metadata": {
    "colab": {
     "base_uri": "https://localhost:8080/",
     "height": 362
    },
    "id": "a7MslEXxZvAa",
    "outputId": "e343e452-2628-4f09-95b7-010b20916f2b"
   },
   "outputs": [
    {
     "data": {
      "application/vnd.microsoft.datawrangler.viewer.v0+json": {
       "columns": [
        {
         "name": "index",
         "rawType": "int64",
         "type": "integer"
        },
        {
         "name": "Date",
         "rawType": "int32",
         "type": "integer"
        },
        {
         "name": "City",
         "rawType": "int64",
         "type": "integer"
        },
        {
         "name": "CO",
         "rawType": "float64",
         "type": "float"
        },
        {
         "name": "NO2",
         "rawType": "float64",
         "type": "float"
        },
        {
         "name": "SO2",
         "rawType": "float64",
         "type": "float"
        },
        {
         "name": "O3",
         "rawType": "float64",
         "type": "float"
        },
        {
         "name": "PM2.5",
         "rawType": "float64",
         "type": "float"
        },
        {
         "name": "PM10",
         "rawType": "float64",
         "type": "float"
        },
        {
         "name": "AQI",
         "rawType": "float64",
         "type": "float"
        }
       ],
       "ref": "23ac916b-8f8d-4384-a01c-23656a59c627",
       "rows": [
        [
         "0",
         "0",
         "1",
         "292.0",
         "30.15",
         "1.1",
         "23.0",
         "11.1",
         "15.8",
         "21.15833"
        ],
        [
         "1",
         "1",
         "1",
         "291.0",
         "28.95",
         "1.15",
         "24.0",
         "12.4",
         "17.7",
         "20.825"
        ],
        [
         "2",
         "2",
         "1",
         "289.0",
         "27.25",
         "1.25",
         "25.0",
         "13.0",
         "18.5",
         "20.474998"
        ],
        [
         "3",
         "3",
         "1",
         "275.0",
         "23.7",
         "1.3",
         "28.0",
         "9.2",
         "13.1",
         "20.074999"
        ],
        [
         "4",
         "4",
         "1",
         "246.0",
         "19.35",
         "1.25",
         "32.0",
         "6.8",
         "9.7",
         "19.324999"
        ],
        [
         "5",
         "5",
         "1",
         "208.0",
         "13.95",
         "1.15",
         "36.0",
         "5.6",
         "8.0",
         "18.574999"
        ],
        [
         "6",
         "6",
         "1",
         "166.0",
         "8.2",
         "1.05",
         "41.0",
         "5.1",
         "7.2",
         "17.824999"
        ],
        [
         "7",
         "7",
         "1",
         "152.0",
         "6.3",
         "1.0",
         "41.0",
         "4.9",
         "6.9",
         "17.275"
        ],
        [
         "8",
         "8",
         "1",
         "146.0",
         "5.55",
         "0.95",
         "40.0",
         "4.9",
         "7.0",
         "16.875"
        ],
        [
         "9",
         "9",
         "1",
         "139.0",
         "4.9",
         "0.9",
         "40.0",
         "4.9",
         "7.0",
         "16.566666"
        ]
       ],
       "shape": {
        "columns": 9,
        "rows": 10
       }
      },
      "text/html": [
       "<div>\n",
       "<style scoped>\n",
       "    .dataframe tbody tr th:only-of-type {\n",
       "        vertical-align: middle;\n",
       "    }\n",
       "\n",
       "    .dataframe tbody tr th {\n",
       "        vertical-align: top;\n",
       "    }\n",
       "\n",
       "    .dataframe thead th {\n",
       "        text-align: right;\n",
       "    }\n",
       "</style>\n",
       "<table border=\"1\" class=\"dataframe\">\n",
       "  <thead>\n",
       "    <tr style=\"text-align: right;\">\n",
       "      <th></th>\n",
       "      <th>Date</th>\n",
       "      <th>City</th>\n",
       "      <th>CO</th>\n",
       "      <th>NO2</th>\n",
       "      <th>SO2</th>\n",
       "      <th>O3</th>\n",
       "      <th>PM2.5</th>\n",
       "      <th>PM10</th>\n",
       "      <th>AQI</th>\n",
       "    </tr>\n",
       "  </thead>\n",
       "  <tbody>\n",
       "    <tr>\n",
       "      <th>0</th>\n",
       "      <td>0</td>\n",
       "      <td>1</td>\n",
       "      <td>292.0</td>\n",
       "      <td>30.15</td>\n",
       "      <td>1.10</td>\n",
       "      <td>23.0</td>\n",
       "      <td>11.1</td>\n",
       "      <td>15.8</td>\n",
       "      <td>21.158330</td>\n",
       "    </tr>\n",
       "    <tr>\n",
       "      <th>1</th>\n",
       "      <td>1</td>\n",
       "      <td>1</td>\n",
       "      <td>291.0</td>\n",
       "      <td>28.95</td>\n",
       "      <td>1.15</td>\n",
       "      <td>24.0</td>\n",
       "      <td>12.4</td>\n",
       "      <td>17.7</td>\n",
       "      <td>20.825000</td>\n",
       "    </tr>\n",
       "    <tr>\n",
       "      <th>2</th>\n",
       "      <td>2</td>\n",
       "      <td>1</td>\n",
       "      <td>289.0</td>\n",
       "      <td>27.25</td>\n",
       "      <td>1.25</td>\n",
       "      <td>25.0</td>\n",
       "      <td>13.0</td>\n",
       "      <td>18.5</td>\n",
       "      <td>20.474998</td>\n",
       "    </tr>\n",
       "    <tr>\n",
       "      <th>3</th>\n",
       "      <td>3</td>\n",
       "      <td>1</td>\n",
       "      <td>275.0</td>\n",
       "      <td>23.70</td>\n",
       "      <td>1.30</td>\n",
       "      <td>28.0</td>\n",
       "      <td>9.2</td>\n",
       "      <td>13.1</td>\n",
       "      <td>20.074999</td>\n",
       "    </tr>\n",
       "    <tr>\n",
       "      <th>4</th>\n",
       "      <td>4</td>\n",
       "      <td>1</td>\n",
       "      <td>246.0</td>\n",
       "      <td>19.35</td>\n",
       "      <td>1.25</td>\n",
       "      <td>32.0</td>\n",
       "      <td>6.8</td>\n",
       "      <td>9.7</td>\n",
       "      <td>19.324999</td>\n",
       "    </tr>\n",
       "    <tr>\n",
       "      <th>5</th>\n",
       "      <td>5</td>\n",
       "      <td>1</td>\n",
       "      <td>208.0</td>\n",
       "      <td>13.95</td>\n",
       "      <td>1.15</td>\n",
       "      <td>36.0</td>\n",
       "      <td>5.6</td>\n",
       "      <td>8.0</td>\n",
       "      <td>18.574999</td>\n",
       "    </tr>\n",
       "    <tr>\n",
       "      <th>6</th>\n",
       "      <td>6</td>\n",
       "      <td>1</td>\n",
       "      <td>166.0</td>\n",
       "      <td>8.20</td>\n",
       "      <td>1.05</td>\n",
       "      <td>41.0</td>\n",
       "      <td>5.1</td>\n",
       "      <td>7.2</td>\n",
       "      <td>17.824999</td>\n",
       "    </tr>\n",
       "    <tr>\n",
       "      <th>7</th>\n",
       "      <td>7</td>\n",
       "      <td>1</td>\n",
       "      <td>152.0</td>\n",
       "      <td>6.30</td>\n",
       "      <td>1.00</td>\n",
       "      <td>41.0</td>\n",
       "      <td>4.9</td>\n",
       "      <td>6.9</td>\n",
       "      <td>17.275000</td>\n",
       "    </tr>\n",
       "    <tr>\n",
       "      <th>8</th>\n",
       "      <td>8</td>\n",
       "      <td>1</td>\n",
       "      <td>146.0</td>\n",
       "      <td>5.55</td>\n",
       "      <td>0.95</td>\n",
       "      <td>40.0</td>\n",
       "      <td>4.9</td>\n",
       "      <td>7.0</td>\n",
       "      <td>16.875000</td>\n",
       "    </tr>\n",
       "    <tr>\n",
       "      <th>9</th>\n",
       "      <td>9</td>\n",
       "      <td>1</td>\n",
       "      <td>139.0</td>\n",
       "      <td>4.90</td>\n",
       "      <td>0.90</td>\n",
       "      <td>40.0</td>\n",
       "      <td>4.9</td>\n",
       "      <td>7.0</td>\n",
       "      <td>16.566666</td>\n",
       "    </tr>\n",
       "  </tbody>\n",
       "</table>\n",
       "</div>"
      ],
      "text/plain": [
       "   Date  City     CO    NO2   SO2    O3  PM2.5  PM10        AQI\n",
       "0     0     1  292.0  30.15  1.10  23.0   11.1  15.8  21.158330\n",
       "1     1     1  291.0  28.95  1.15  24.0   12.4  17.7  20.825000\n",
       "2     2     1  289.0  27.25  1.25  25.0   13.0  18.5  20.474998\n",
       "3     3     1  275.0  23.70  1.30  28.0    9.2  13.1  20.074999\n",
       "4     4     1  246.0  19.35  1.25  32.0    6.8   9.7  19.324999\n",
       "5     5     1  208.0  13.95  1.15  36.0    5.6   8.0  18.574999\n",
       "6     6     1  166.0   8.20  1.05  41.0    5.1   7.2  17.824999\n",
       "7     7     1  152.0   6.30  1.00  41.0    4.9   6.9  17.275000\n",
       "8     8     1  146.0   5.55  0.95  40.0    4.9   7.0  16.875000\n",
       "9     9     1  139.0   4.90  0.90  40.0    4.9   7.0  16.566666"
      ]
     },
     "execution_count": 8,
     "metadata": {},
     "output_type": "execute_result"
    }
   ],
   "source": [
    "df.head(10)"
   ]
  },
  {
   "cell_type": "code",
   "execution_count": 9,
   "metadata": {
    "colab": {
     "base_uri": "https://localhost:8080/",
     "height": 366
    },
    "id": "VsCmU8zXbLZY",
    "outputId": "e9bf5f12-d9b4-4181-c610-6c6c69cc9a84"
   },
   "outputs": [
    {
     "data": {
      "application/vnd.microsoft.datawrangler.viewer.v0+json": {
       "columns": [
        {
         "name": "index",
         "rawType": "object",
         "type": "string"
        },
        {
         "name": "0",
         "rawType": "int64",
         "type": "integer"
        }
       ],
       "ref": "89787fb5-32a6-4919-a107-67182818ddf5",
       "rows": [
        [
         "Date",
         "0"
        ],
        [
         "City",
         "0"
        ],
        [
         "CO",
         "0"
        ],
        [
         "NO2",
         "0"
        ],
        [
         "SO2",
         "0"
        ],
        [
         "O3",
         "0"
        ],
        [
         "PM2.5",
         "0"
        ],
        [
         "PM10",
         "0"
        ],
        [
         "AQI",
         "0"
        ]
       ],
       "shape": {
        "columns": 1,
        "rows": 9
       }
      },
      "text/plain": [
       "Date     0\n",
       "City     0\n",
       "CO       0\n",
       "NO2      0\n",
       "SO2      0\n",
       "O3       0\n",
       "PM2.5    0\n",
       "PM10     0\n",
       "AQI      0\n",
       "dtype: int64"
      ]
     },
     "execution_count": 9,
     "metadata": {},
     "output_type": "execute_result"
    }
   ],
   "source": [
    "df.isnull().sum()"
   ]
  },
  {
   "cell_type": "code",
   "execution_count": 10,
   "metadata": {
    "colab": {
     "base_uri": "https://localhost:8080/"
    },
    "id": "58vtosTlbQNJ",
    "outputId": "7f78f7e8-7ec1-4142-9677-d4d41c7f3e01"
   },
   "outputs": [
    {
     "data": {
      "text/plain": [
       "np.int64(0)"
      ]
     },
     "execution_count": 10,
     "metadata": {},
     "output_type": "execute_result"
    }
   ],
   "source": [
    "df.duplicated().sum()\n"
   ]
  },
  {
   "cell_type": "code",
   "execution_count": 11,
   "metadata": {
    "colab": {
     "base_uri": "https://localhost:8080/"
    },
    "id": "Wd4_tSUtbas4",
    "outputId": "190f7622-a80d-4582-9882-f80daf5d7a7b"
   },
   "outputs": [
    {
     "name": "stdout",
     "output_type": "stream",
     "text": [
      "<class 'pandas.core.frame.DataFrame'>\n",
      "RangeIndex: 52560 entries, 0 to 52559\n",
      "Data columns (total 9 columns):\n",
      " #   Column  Non-Null Count  Dtype  \n",
      "---  ------  --------------  -----  \n",
      " 0   Date    52560 non-null  int32  \n",
      " 1   City    52560 non-null  int64  \n",
      " 2   CO      52560 non-null  float64\n",
      " 3   NO2     52560 non-null  float64\n",
      " 4   SO2     52560 non-null  float64\n",
      " 5   O3      52560 non-null  float64\n",
      " 6   PM2.5   52560 non-null  float64\n",
      " 7   PM10    52560 non-null  float64\n",
      " 8   AQI     52560 non-null  float64\n",
      "dtypes: float64(7), int32(1), int64(1)\n",
      "memory usage: 3.4 MB\n"
     ]
    }
   ],
   "source": [
    "df.info()"
   ]
  },
  {
   "cell_type": "code",
   "execution_count": 12,
   "metadata": {
    "colab": {
     "base_uri": "https://localhost:8080/",
     "height": 331
    },
    "id": "X5tffKu0esxP",
    "outputId": "86c1857d-a35f-43b9-e6a7-78b7e8d080e4"
   },
   "outputs": [
    {
     "data": {
      "application/vnd.microsoft.datawrangler.viewer.v0+json": {
       "columns": [
        {
         "name": "index",
         "rawType": "int64",
         "type": "integer"
        },
        {
         "name": "Date",
         "rawType": "int32",
         "type": "integer"
        },
        {
         "name": "City",
         "rawType": "int64",
         "type": "integer"
        },
        {
         "name": "CO",
         "rawType": "float64",
         "type": "float"
        },
        {
         "name": "NO2",
         "rawType": "float64",
         "type": "float"
        },
        {
         "name": "SO2",
         "rawType": "float64",
         "type": "float"
        },
        {
         "name": "O3",
         "rawType": "float64",
         "type": "float"
        },
        {
         "name": "PM2.5",
         "rawType": "float64",
         "type": "float"
        },
        {
         "name": "PM10",
         "rawType": "float64",
         "type": "float"
        },
        {
         "name": "AQI",
         "rawType": "float64",
         "type": "float"
        }
       ],
       "ref": "b1e16df3-eacf-41b4-9e72-2c1e25d30653",
       "rows": [
        [
         "0",
         "0",
         "1",
         "292.0",
         "30.15",
         "1.1",
         "23.0",
         "11.1",
         "15.8",
         "21.15833"
        ],
        [
         "1",
         "1",
         "1",
         "291.0",
         "28.95",
         "1.15",
         "24.0",
         "12.4",
         "17.7",
         "20.825"
        ],
        [
         "2",
         "2",
         "1",
         "289.0",
         "27.25",
         "1.25",
         "25.0",
         "13.0",
         "18.5",
         "20.474998"
        ],
        [
         "3",
         "3",
         "1",
         "275.0",
         "23.7",
         "1.3",
         "28.0",
         "9.2",
         "13.1",
         "20.074999"
        ],
        [
         "4",
         "4",
         "1",
         "246.0",
         "19.35",
         "1.25",
         "32.0",
         "6.8",
         "9.7",
         "19.324999"
        ],
        [
         "5",
         "5",
         "1",
         "208.0",
         "13.95",
         "1.15",
         "36.0",
         "5.6",
         "8.0",
         "18.574999"
        ],
        [
         "6",
         "6",
         "1",
         "166.0",
         "8.2",
         "1.05",
         "41.0",
         "5.1",
         "7.2",
         "17.824999"
        ],
        [
         "7",
         "7",
         "1",
         "152.0",
         "6.3",
         "1.0",
         "41.0",
         "4.9",
         "6.9",
         "17.275"
        ],
        [
         "8",
         "8",
         "1",
         "146.0",
         "5.55",
         "0.95",
         "40.0",
         "4.9",
         "7.0",
         "16.875"
        ]
       ],
       "shape": {
        "columns": 9,
        "rows": 9
       }
      },
      "text/html": [
       "<div>\n",
       "<style scoped>\n",
       "    .dataframe tbody tr th:only-of-type {\n",
       "        vertical-align: middle;\n",
       "    }\n",
       "\n",
       "    .dataframe tbody tr th {\n",
       "        vertical-align: top;\n",
       "    }\n",
       "\n",
       "    .dataframe thead th {\n",
       "        text-align: right;\n",
       "    }\n",
       "</style>\n",
       "<table border=\"1\" class=\"dataframe\">\n",
       "  <thead>\n",
       "    <tr style=\"text-align: right;\">\n",
       "      <th></th>\n",
       "      <th>Date</th>\n",
       "      <th>City</th>\n",
       "      <th>CO</th>\n",
       "      <th>NO2</th>\n",
       "      <th>SO2</th>\n",
       "      <th>O3</th>\n",
       "      <th>PM2.5</th>\n",
       "      <th>PM10</th>\n",
       "      <th>AQI</th>\n",
       "    </tr>\n",
       "  </thead>\n",
       "  <tbody>\n",
       "    <tr>\n",
       "      <th>0</th>\n",
       "      <td>0</td>\n",
       "      <td>1</td>\n",
       "      <td>292.0</td>\n",
       "      <td>30.15</td>\n",
       "      <td>1.10</td>\n",
       "      <td>23.0</td>\n",
       "      <td>11.1</td>\n",
       "      <td>15.8</td>\n",
       "      <td>21.158330</td>\n",
       "    </tr>\n",
       "    <tr>\n",
       "      <th>1</th>\n",
       "      <td>1</td>\n",
       "      <td>1</td>\n",
       "      <td>291.0</td>\n",
       "      <td>28.95</td>\n",
       "      <td>1.15</td>\n",
       "      <td>24.0</td>\n",
       "      <td>12.4</td>\n",
       "      <td>17.7</td>\n",
       "      <td>20.825000</td>\n",
       "    </tr>\n",
       "    <tr>\n",
       "      <th>2</th>\n",
       "      <td>2</td>\n",
       "      <td>1</td>\n",
       "      <td>289.0</td>\n",
       "      <td>27.25</td>\n",
       "      <td>1.25</td>\n",
       "      <td>25.0</td>\n",
       "      <td>13.0</td>\n",
       "      <td>18.5</td>\n",
       "      <td>20.474998</td>\n",
       "    </tr>\n",
       "    <tr>\n",
       "      <th>3</th>\n",
       "      <td>3</td>\n",
       "      <td>1</td>\n",
       "      <td>275.0</td>\n",
       "      <td>23.70</td>\n",
       "      <td>1.30</td>\n",
       "      <td>28.0</td>\n",
       "      <td>9.2</td>\n",
       "      <td>13.1</td>\n",
       "      <td>20.074999</td>\n",
       "    </tr>\n",
       "    <tr>\n",
       "      <th>4</th>\n",
       "      <td>4</td>\n",
       "      <td>1</td>\n",
       "      <td>246.0</td>\n",
       "      <td>19.35</td>\n",
       "      <td>1.25</td>\n",
       "      <td>32.0</td>\n",
       "      <td>6.8</td>\n",
       "      <td>9.7</td>\n",
       "      <td>19.324999</td>\n",
       "    </tr>\n",
       "    <tr>\n",
       "      <th>5</th>\n",
       "      <td>5</td>\n",
       "      <td>1</td>\n",
       "      <td>208.0</td>\n",
       "      <td>13.95</td>\n",
       "      <td>1.15</td>\n",
       "      <td>36.0</td>\n",
       "      <td>5.6</td>\n",
       "      <td>8.0</td>\n",
       "      <td>18.574999</td>\n",
       "    </tr>\n",
       "    <tr>\n",
       "      <th>6</th>\n",
       "      <td>6</td>\n",
       "      <td>1</td>\n",
       "      <td>166.0</td>\n",
       "      <td>8.20</td>\n",
       "      <td>1.05</td>\n",
       "      <td>41.0</td>\n",
       "      <td>5.1</td>\n",
       "      <td>7.2</td>\n",
       "      <td>17.824999</td>\n",
       "    </tr>\n",
       "    <tr>\n",
       "      <th>7</th>\n",
       "      <td>7</td>\n",
       "      <td>1</td>\n",
       "      <td>152.0</td>\n",
       "      <td>6.30</td>\n",
       "      <td>1.00</td>\n",
       "      <td>41.0</td>\n",
       "      <td>4.9</td>\n",
       "      <td>6.9</td>\n",
       "      <td>17.275000</td>\n",
       "    </tr>\n",
       "    <tr>\n",
       "      <th>8</th>\n",
       "      <td>8</td>\n",
       "      <td>1</td>\n",
       "      <td>146.0</td>\n",
       "      <td>5.55</td>\n",
       "      <td>0.95</td>\n",
       "      <td>40.0</td>\n",
       "      <td>4.9</td>\n",
       "      <td>7.0</td>\n",
       "      <td>16.875000</td>\n",
       "    </tr>\n",
       "  </tbody>\n",
       "</table>\n",
       "</div>"
      ],
      "text/plain": [
       "   Date  City     CO    NO2   SO2    O3  PM2.5  PM10        AQI\n",
       "0     0     1  292.0  30.15  1.10  23.0   11.1  15.8  21.158330\n",
       "1     1     1  291.0  28.95  1.15  24.0   12.4  17.7  20.825000\n",
       "2     2     1  289.0  27.25  1.25  25.0   13.0  18.5  20.474998\n",
       "3     3     1  275.0  23.70  1.30  28.0    9.2  13.1  20.074999\n",
       "4     4     1  246.0  19.35  1.25  32.0    6.8   9.7  19.324999\n",
       "5     5     1  208.0  13.95  1.15  36.0    5.6   8.0  18.574999\n",
       "6     6     1  166.0   8.20  1.05  41.0    5.1   7.2  17.824999\n",
       "7     7     1  152.0   6.30  1.00  41.0    4.9   6.9  17.275000\n",
       "8     8     1  146.0   5.55  0.95  40.0    4.9   7.0  16.875000"
      ]
     },
     "execution_count": 12,
     "metadata": {},
     "output_type": "execute_result"
    }
   ],
   "source": [
    "df.head(9)"
   ]
  },
  {
   "cell_type": "code",
   "execution_count": 15,
   "metadata": {},
   "outputs": [],
   "source": [
    "df.columns = df.columns.str.replace('.', '_', regex=False)"
   ]
  },
  {
   "cell_type": "code",
   "execution_count": 21,
   "metadata": {},
   "outputs": [
    {
     "data": {
      "image/png": "[encoded data removed]",
      "text/plain": [
       "<Figure size 1500x800 with 1 Axes>"
      ]
     },
     "metadata": {},
     "output_type": "display_data"
    }
   ],
   "source": [
    "CO = df.CO\n",
    "NO2 = df.NO2\n",
    "SO2 = df.SO2\n",
    "O3 = df.O3\n",
    "PM2_5 = df.PM2_5\n",
    "PM10 = df.PM10\n",
    "AQI = df.AQI\n",
    "\n",
    "pollutants = {\n",
    "    'CO': CO,\n",
    "    'NO2': NO2,\n",
    "    'SO2': SO2,\n",
    "    'O3': O3,\n",
    "    'PM2_5': PM2_5,\n",
    "    'PM10': PM10\n",
    "}\n",
    "\n",
    "plt.figure(figsize=(15, 8))\n",
    "\n",
    "for name, values in pollutants.items():\n",
    "    plt.scatter(values, AQI, label=f'{name} vs AQI')\n",
    "\n",
    "plt.xlabel('Pollutant Concentration')\n",
    "plt.ylabel('AQI')\n",
    "plt.title('Pollutants vs AQI')\n",
    "plt.legend()\n",
    "plt.grid(True)\n",
    "plt.show()"
   ]
  },
  {
   "cell_type": "markdown",
   "metadata": {},
   "source": [
    "## Building Deep Neural Network"
   ]
  },
  {
   "cell_type": "code",
   "execution_count": null,
   "metadata": {},
   "outputs": [],
   "source": [
    "def linear(x):\n",
    "     return x\n",
    "\n",
    "def linear_derivative(x):\n",
    "    return np.ones_like(x)"
   ]
  },
  {
   "cell_type": "code",
   "execution_count": null,
   "metadata": {
    "id": "54T-7dlae24Q"
   },
   "outputs": [],
   "source": [
    "def relu(x):\n",
    "    return np.maximum(0, x)\n",
    "\n",
    "def relu_derivative(x):\n",
    "    return (x > 0).astype(float)"
   ]
  },
  {
   "cell_type": "code",
   "execution_count": null,
   "metadata": {},
   "outputs": [],
   "source": [
    "def huber_loss(y_true, y_pred, delta=1.0):\n",
    "    error = y_true - y_pred\n",
    "    is_small_error = np.abs(error) <= delta\n",
    "    squared_loss = 0.5 * (error ** 2)\n",
    "    linear_loss = delta * (np.abs(error) - 0.5 * delta)\n",
    "    return np.mean(np.where(is_small_error, squared_loss, linear_loss))\n",
    "\n",
    "def huber_derivative(y_true, y_pred, delta=1.0):\n",
    "    error = y_pred - y_true\n",
    "    is_small_error = np.abs(error) <= delta\n",
    "    return np.where(is_small_error, error, delta * np.sign(error)) / y_true.size"
   ]
  }
 ],
 "metadata": {
  "accelerator": "GPU",
  "colab": {
   "gpuType": "T4",
   "provenance": []
  },
  "kernelspec": {
   "display_name": "Global",
   "language": "python",
   "name": "python3"
  },
  "language_info": {
   "codemirror_mode": {
    "name": "ipython",
    "version": 3
   },
   "file_extension": ".py",
   "mimetype": "text/x-python",
   "name": "python",
   "nbconvert_exporter": "python",
   "pygments_lexer": "ipython3",
   "version": "3.11.13"
  }
 },
 "nbformat": 4,
 "nbformat_minor": 0
}
